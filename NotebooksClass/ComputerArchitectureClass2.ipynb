{
 "cells": [
  {
   "cell_type": "markdown",
   "metadata": {},
   "source": [
    "## Instrucciones: El lenguaje del procesador\n",
    "\n",
    "las palabras de un lenguaje de computador son conocidas como \"Instrucciones\" \n",
    "y su vocabulario es llamado \"set de instrucciones\".\n",
    "\n",
    "### Operaciones del Hardware del Procesador:\n",
    "\n",
    "Como es bien  sabido todo el procesador debe estar en capacidad de realizar algun tipo de operacion sobre un conjunto de datos. En el caso de la arquitectura **SPARCV8** tenemos un conjunto de instrucciones de tamaño fijo \n",
    "de 32bits (Arquitectura RISC) $\\approx$ 72 instrucciones. \n",
    "Todas las operacicones seran triadicas, esto significa que tendrá 3 parametros.\n",
    "\n",
    "La instruccion suma en **SPARCV8** se escribe como :\n",
    "\n",
    "```as\n",
    "add b,c,a \n",
    "```\n",
    "tenemos entonces que  en **b**, **c** estaran almacenados los valores a operar definidos como los *operandos* y en **a** se almacenara el resultado. \n",
    "Ejemplo de una asignación:\n",
    "$$f=(g+h)-(a+b)$$\n",
    "En asembler tendriamos:\n",
    "```as\n",
    "add g,h,f \n",
    "add a,b,g\n",
    "sub f,g, f\n",
    "```\n",
    "como se pueda  notar que a pesar de que la operacion es compleja en ensamblador solo puedo operar 2 operandos.\n",
    "\n",
    "                Principio de Diseño : La simplicidad favorece la regularidad"
   ]
  },
  {
   "cell_type": "markdown",
   "metadata": {},
   "source": [
    "### Operandos del HW del Procesador \n",
    "\n",
    "Anteriormente vimos que las instruciones se estan ejecuntando sobre las *\"variables\"*,sin embargo en procesador **NO PUEDE** acceder directamente a las variables definidas en algun lenguaje de alto nivel. EL procesador solo puede acceder a **REGISTROS**, los cuales deberean contener los valores correctos a operar. La arquitectura SPARCV8(*scalable processor architecture*) contiene entre 40-520 registros que pueden ser utilizados. sin embargo la cantidad exacta depende directamente de la implementacion.\n",
    "\n",
    "La arquitectura SPARC V8 clasifica sus registros en 4 grandes tipos:\n",
    "\n",
    "* Registros de **entrada**: 8 Registros de proposito general, de 32 bits que por estandar deberan usarce para recibir parametros  en una funcion. \n",
    "* Registros de **salida**: 8 registros de proposito general, de 32 bits que por estandar sera usados para retornar valores en una funcion. \n",
    "* Registros **locales**: 8 registros de proposito general, de 32 bits por estandar seran usados para almacenar variables dentro de una funcion. \n",
    "* Registros **Globales**: 8 Registros de proposito general de 32 bits por estandar se sugiere su uso para el almacenamiento de variables globales en forma general estos registros deberan llamarse por sus letras iniciales y anteponerles un signo de porcentaje, por ejemplo :\n",
    "\n",
    "```as\n",
    "add %o0,%o1,%i0\n",
    "```\n",
    "              Segundo Principio : Pequeño es mas rapido\n",
    "              \n",
    "Tabla de Registros \n",
    "\n",
    "Nemonic | Register Number \n",
    "-- | --\n",
    "%i0-%i7 | r24-r31\n",
    "%l0-%l7 | r16-r23\n",
    "%o0-%o7 | r8-r15\n",
    "%o0-%o7 | r0-r7\n",
    "\n",
    "**Ejercicio** $l_1=(g+p)-(a-h)$\n",
    "l1:%l0\n",
    "g:%l1\n",
    "p:%l2\n",
    "a:%l3\n",
    "\n",
    "```as\n",
    "add %l1,%l2,%l1\n",
    "add %l3,%l0,%l0\n",
    "sub %l1,%l0,%l0\n",
    "```\n",
    "\n",
    "### Operandos en Memoria\n",
    "\n",
    "load $\\longrightarrow$ ld\n",
    "\n",
    "store $\\longrightarrow$ st\n",
    "\n",
    "Cuando un procesador necesita acceder a un gran nummero de datos, se hace necesario que pueda  acceder a memoria principal. Estos accesos permitiran que el sitema pueda utilizar  la mayor cantidad de informacion para realizar sus operaciones . En la arquitectura SPARCV8 existen  dos tipos de instrucciones para realizar esta tarea, las instrucciones de LOAD y las de STORE. \n",
    "\n",
    "```as\n",
    "ld [address] regrd\n",
    "st regrd, [address]\n",
    " \n",
    "```"
   ]
  },
  {
   "cell_type": "code",
   "execution_count": null,
   "metadata": {
    "collapsed": true
   },
   "outputs": [],
   "source": []
  }
 ],
 "metadata": {
  "kernelspec": {
   "display_name": "Python 3",
   "language": "python",
   "name": "python3"
  },
  "language_info": {
   "codemirror_mode": {
    "name": "ipython",
    "version": 3
   },
   "file_extension": ".py",
   "mimetype": "text/x-python",
   "name": "python",
   "nbconvert_exporter": "python",
   "pygments_lexer": "ipython3",
   "version": "3.5.4rc1"
  }
 },
 "nbformat": 4,
 "nbformat_minor": 2
}
